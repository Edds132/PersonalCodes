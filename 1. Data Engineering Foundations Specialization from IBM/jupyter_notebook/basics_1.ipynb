{
 "cells": [
  {
   "cell_type": "markdown",
   "metadata": {},
   "source": [
    "# General approach to Python"
   ]
  },
  {
   "cell_type": "code",
   "execution_count": 1,
   "metadata": {},
   "outputs": [
    {
     "name": "stdout",
     "output_type": "stream",
     "text": [
      "Hello Python!\n"
     ]
    }
   ],
   "source": [
    "#Comments in jupyter notebook\n",
    "print(\"Hello Python!\")"
   ]
  },
  {
   "cell_type": "code",
   "execution_count": 2,
   "metadata": {},
   "outputs": [
    {
     "name": "stdout",
     "output_type": "stream",
     "text": [
      "3.12.5 (tags/v3.12.5:ff3bc82, Aug  6 2024, 20:45:27) [MSC v.1940 64 bit (AMD64)]\n"
     ]
    }
   ],
   "source": [
    "#Get Python Version\n",
    "import sys\n",
    "print(sys.version)"
   ]
  },
  {
   "cell_type": "code",
   "execution_count": 9,
   "metadata": {},
   "outputs": [
    {
     "name": "stdout",
     "output_type": "stream",
     "text": [
      "Avoid \\n last two\n",
      "024\n",
      "012replace45\n"
     ]
    },
    {
     "data": {
      "text/plain": [
       "['012re', 'ace45']"
      ]
     },
     "execution_count": 9,
     "metadata": {},
     "output_type": "execute_result"
    }
   ],
   "source": [
    "type(2) #Get type variable\n",
    "\n",
    "string_1 = \"New \\n line\"\n",
    "string_2 = \"Tab \\n way\"\n",
    "print(r\"Avoid \\n last two\")\n",
    "\n",
    "value = \"012345\"\n",
    "len(value)\n",
    "print(value[::2]) #Play with the array\n",
    "value.upper #convert to upper case, .lower is for lower case\n",
    "value_replaced = value.replace(\"3\", \"replace\")\n",
    "print(value_replaced)\n",
    "value_replaced.find(\"pla\")\n",
    "split_string = (value_replaced.split(\"pl\")) #separator must be between \"\"\n",
    "split_string"
   ]
  },
  {
   "cell_type": "markdown",
   "metadata": {},
   "source": [
    "# Regular Expressions (RegEx)\n",
    "\n",
    "Regular expressions (RegEx) are patterns used to match and manipulate strings of text. There are several special sequences in RegEx that can be used to match specific characters or patterns.\n",
    "\n",
    "| Special Sequence | Meaning                                              | Example                                                                  |\n",
    "|------------------|------------------------------------------------------|--------------------------------------------------------------------------|\n",
    "| `\\d`             | Matches any digit character (0-9)                    | `\"123\"` matches `\\d\\d\\d`                                                 |\n",
    "| `\\D`             | Matches any non-digit character                      | `\"hello\"` matches `\\D\\D\\D\\D\\D`                                           |\n",
    "| `\\w`             | Matches any word character (a-z, A-Z, 0-9, and `_`)  | `\"hello_world\"` matches `\\w\\w\\w\\w\\w\\w\\w\\w\\w\\w\\w`                         |\n",
    "| `\\W`             | Matches any non-word character                       | `\"@#$%\"` matches `\\W\\W\\W\\W`                                              |\n",
    "| `\\s`             | Matches any whitespace character (space, tab, etc.)  | `\"hello world\"` matches `\\w\\w\\w\\w\\w\\s\\w\\w\\w\\w\\w`                         |\n",
    "| `\\S`             | Matches any non-whitespace character                 | `\"hello_world\"` matches `\\S\\S\\S\\S\\S\\S\\S\\S\\S`                             |\n",
    "| `\\b`             | Matches the boundary between a word and non-word     | `\"cat\"` matches `\\bcat\\b` in `\"The cat sat on the mat\"`                  |\n",
    "| `\\B`             | Matches any position that is not a word boundary     | `\"cat\"` matches `\\Bcat\\B` in `\"category\"` but not in `\"The cat sat\"`     |\n",
    "\n",
    "\n",
    "\n",
    "\n",
    "\n"
   ]
  },
  {
   "cell_type": "code",
   "execution_count": 13,
   "metadata": {},
   "outputs": [
    {
     "name": "stdout",
     "output_type": "stream",
     "text": [
      "Phone number found: 1234567890\n",
      "Matches: [',', ' ', '!']\n"
     ]
    }
   ],
   "source": [
    "import re\n",
    "pattern = r\"\\d\\d\\d\\d\\d\\d\\d\\d\\d\\d\"  # Matches any ten consecutive digits\n",
    "text = \"My Phone number is 1234567890\"\n",
    "match = re.search(pattern, text)\n",
    "\n",
    "if match:\n",
    "    print(\"Phone number found:\", match.group())\n",
    "else:\n",
    "    print(\"No match\")\n",
    "\n",
    "#------------------------------------------------------------------------------------------>\n",
    "\n",
    "pattern = r\"\\W\"  # Matches any non-word character\n",
    "text = \"Hello, world!\"\n",
    "matches = re.findall(pattern, text)\n",
    "print(\"Matches:\", matches)\n"
   ]
  },
  {
   "cell_type": "markdown",
   "metadata": {},
   "source": [
    "# Loops and lists\n"
   ]
  },
  {
   "cell_type": "code",
   "execution_count": 14,
   "metadata": {},
   "outputs": [
    {
     "name": "stdout",
     "output_type": "stream",
     "text": [
      "10\n",
      "9.5\n",
      "10\n",
      "8\n",
      "7.5\n"
     ]
    }
   ],
   "source": [
    "PlayListRatings = [10, 9.5, 10, 8, 7.5, 5, 10, 10]\n",
    "i = 0\n",
    "rating = PlayListRatings[0]\n",
    "while(i < len(PlayListRatings) and rating >= 6):\n",
    "    print(rating)\n",
    "    i = i + 1 \n",
    "    rating = PlayListRatings[i] "
   ]
  },
  {
   "cell_type": "code",
   "execution_count": 15,
   "metadata": {},
   "outputs": [
    {
     "name": "stdout",
     "output_type": "stream",
     "text": [
      "[0, 6, 12, 18, 24, 30, 36, 42, 48, 54] \n",
      " [0, 7, 14, 21, 28, 35, 42, 49, 56, 63]\n"
     ]
    }
   ],
   "source": [
    "table_6 = []\n",
    "table_7 = []\n",
    "for i in range(0,10):\n",
    "    table_6.append(6*i)\n",
    "    table_7.append(7*i)\n",
    "print(table_6,\"\\n\", table_7)"
   ]
  },
  {
   "cell_type": "code",
   "execution_count": 17,
   "metadata": {},
   "outputs": [
    {
     "name": "stdout",
     "output_type": "stream",
     "text": [
      "Position: 0 Value: 123123\n",
      "Position: 1 Value: tree\n",
      "Position: 2 Value: (1, 2, 3, 4)\n",
      "Position: 0 Value: H\n",
      "Position: 1 Value: e\n",
      "Position: 2 Value: l\n",
      "Position: 3 Value: l\n",
      "Position: 4 Value: o\n",
      "Position: 0 Value: H\n",
      "Position: 1 Value: e\n",
      "Position: 2 Value: l\n",
      "Position: 3 Value: l\n",
      "Position: 4 Value: o\n"
     ]
    }
   ],
   "source": [
    "def printStuff(stuff):\n",
    "    for i, s in enumerate(stuff):\n",
    "        print(\"Position:\", i, \"Value:\", s)\n",
    "\n",
    "list_1 = [123123, \"tree\", (1,2,3,4)]\n",
    "a = \"Hello\"\n",
    "printStuff(list_1)\n",
    "printStuff(\"Hello\")\n",
    "printStuff(a)"
   ]
  },
  {
   "cell_type": "code",
   "execution_count": 18,
   "metadata": {},
   "outputs": [
    {
     "name": "stdout",
     "output_type": "stream",
     "text": [
      "Total Count: {'little': 3}\n"
     ]
    }
   ],
   "source": [
    "def freq(string,passedkey):\n",
    "\n",
    "    #step1: A list variable is declared and initialized to an empty list.\n",
    "    words = []\n",
    "\n",
    "    #step2: Break the string into list of words\n",
    "    words = string.split() # or string.lower().split()\n",
    "\n",
    "    #step3: Declare a dictionary\n",
    "    Dict = {}\n",
    "\n",
    "    #step4: Use for loop to iterate words and values to the dictionary\n",
    "    for key in words:\n",
    "        if(key == passedkey):\n",
    "            Dict[key] = words.count(key)   \n",
    "    #step5: Print the dictionary\n",
    "    print(\"Total Count:\",Dict)\n",
    "\n",
    "#step6: Call function and pass string in it\n",
    "freq(\"Mary had a little lamb Little lamb, little lamb Mary had a little lamb.Its fleece was white as snow And everywhere that Mary went Mary went, Mary went \\\n",
    "Everywhere that Mary went The lamb was sure to go\",\"little\")"
   ]
  },
  {
   "cell_type": "markdown",
   "metadata": {},
   "source": [
    "# Libraries"
   ]
  },
  {
   "cell_type": "code",
   "execution_count": 21,
   "metadata": {},
   "outputs": [
    {
     "name": "stdout",
     "output_type": "stream",
     "text": [
      "Result: 2.8284271247461903\n",
      "Result: -0.25\n"
     ]
    }
   ],
   "source": [
    "import math\n",
    "def perform_calculation(number1):\n",
    "    try:\n",
    "        result = math.sqrt(number1)\n",
    "        print(f\"Result: {result}\")\n",
    "    except ValueError:\n",
    "        print(\"Error: Invalid input! Please enter a positive integer or a float value.\")\n",
    "\n",
    "# Test case\n",
    "aa =float(input(\"Enter the number:\"))\n",
    "perform_calculation(aa)\n",
    "\n",
    "#-------------------------------------------------------------------------------->\n",
    "\n",
    "def complex_calculation(num):\n",
    "    try:\n",
    "        result = num / (num - 5)\n",
    "        print (f\"Result: {result}\")\n",
    "    except Exception as e:\n",
    "        print(e, \"An error occurred during calculation.\")\n",
    "# Test case\n",
    "user_input = float(input(\"Enter a number: \"))\n",
    "complex_calculation(user_input)"
   ]
  },
  {
   "cell_type": "code",
   "execution_count": 31,
   "metadata": {},
   "outputs": [
    {
     "data": {
      "image/png": "[encoded data removed]",
      "text/plain": [
       "<Figure size 640x480 with 1 Axes>"
      ]
     },
     "metadata": {},
     "output_type": "display_data"
    }
   ],
   "source": [
    "import matplotlib.pyplot as plt\n",
    "%matplotlib inline\n",
    "\n",
    "class Circle(object):\n",
    "    #Constructor\n",
    "    def __init__(self, radius = 3, color = \"blue\"):\n",
    "        self.radius = radius\n",
    "        self.color = color\n",
    "    #Methods\n",
    "    def add_radius(self,r):\n",
    "        self.radius = self.radius + r\n",
    "        return(self.radius)\n",
    "    def draw_circle(self):\n",
    "        plt.gca().add_patch(plt.Circle((0, 0), radius=self.radius, fc=self.color))\n",
    "        plt.axis('scaled')\n",
    "        plt.show()  \n",
    "\n",
    "RedCircle = Circle(1,\"red\")\n",
    "RedCircle.add_radius(2)\n",
    "RedCircle.draw_circle()\n"
   ]
  },
  {
   "cell_type": "code",
   "execution_count": null,
   "metadata": {},
   "outputs": [],
   "source": []
  }
 ],
 "metadata": {
  "kernelspec": {
   "display_name": "Python 3",
   "language": "python",
   "name": "python3"
  },
  "language_info": {
   "codemirror_mode": {
    "name": "ipython",
    "version": 3
   },
   "file_extension": ".py",
   "mimetype": "text/x-python",
   "name": "python",
   "nbconvert_exporter": "python",
   "pygments_lexer": "ipython3",
   "version": "3.12.5"
  }
 },
 "nbformat": 4,
 "nbformat_minor": 2
}
